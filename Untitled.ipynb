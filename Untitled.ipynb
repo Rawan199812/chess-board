{
 "cells": [
  {
   "cell_type": "code",
   "execution_count": 1,
   "id": "2e934ffc-8cd4-45f3-9b22-dc1a0e9d0713",
   "metadata": {},
   "outputs": [],
   "source": [
    "import numpy as np\n",
    "import matplotlib.pyplot as plt\n"
   ]
  },
  {
   "cell_type": "code",
   "execution_count": null,
   "id": "6ed824df-dcfa-4580-af5d-3b545c665e7d",
   "metadata": {},
   "outputs": [],
   "source": [
    "class ChessBoard :\n",
    "    white = [1,1,1]\n",
    "    blue = [0,1,1]\n",
    "    red = [1,.2,0]\n",
    "    r_row=0\n",
    "    r_col=0\n",
    "    b_row=0\n",
    "    b_col=0\n",
    "    def __init__(self):\n",
    "        self.grid = np.zeros((8,8,3)) ## 3 zeros is the black \n",
    "        for i in range(8):\n",
    "            for j in range(8):\n",
    "                if not(i+j)%2:\n",
    "                    self.grid[i,j]=ChessBoard.white\n",
    "\n",
    "    def add_red(self, r_row, r_col):\n",
    "        \"\"\"method accepts a row and column as input which colors blue corresponding cell (red queen)\"\"\"\n",
    "        self.grid[r_row,r_col]=ChessBoard.red\n",
    "        self.r_row=r_row\n",
    "        self.r_col=r_col\n",
    "\n",
    "    def add_blue(self, b_row, b_col):\n",
    "        \"\"\"method accepts a row and column as input which colors red corresponding cell(blue queen)\"\"\"\n",
    "        self.grid[b_row,b_col]=ChessBoard.blue\n",
    "        self.b_row=b_row\n",
    "        self.b_col=b_col\n",
    "    \n",
    "    def render(self):\n",
    "        \"\"\"method displays the chess board on screen with red and blue shown in correct locations\"\"\"\n",
    "        \n",
    "        plt.imshow(self.grid)\n",
    "\n",
    "    def is_under_attack(self):\n",
    "        \"\"\" method that return boolean if red is under attack by a blue piece horizontally, vertically or diagonally\"\"\"\n",
    "        # check board and return True if red is under attack\n",
    "        return True\n",
    "        "
   ]
  },
  {
   "cell_type": "code",
   "execution_count": 4,
   "metadata": {},
   "outputs": [
    {
     "output_type": "error",
     "ename": "NameError",
     "evalue": "name 'ChessBoard' is not defined",
     "traceback": [
      "\u001b[0;31m---------------------------------------------------------------------------\u001b[0m",
      "\u001b[0;31mNameError\u001b[0m                                 Traceback (most recent call last)",
      "\u001b[0;32m<ipython-input-4-2e1c624f88d8>\u001b[0m in \u001b[0;36m<module>\u001b[0;34m\u001b[0m\n\u001b[0;32m----> 1\u001b[0;31m \u001b[0mboard\u001b[0m \u001b[0;34m=\u001b[0m \u001b[0mChessBoard\u001b[0m\u001b[0;34m(\u001b[0m\u001b[0;34m)\u001b[0m\u001b[0;34m\u001b[0m\u001b[0;34m\u001b[0m\u001b[0m\n\u001b[0m\u001b[1;32m      2\u001b[0m \u001b[0mboard\u001b[0m\u001b[0;34m.\u001b[0m\u001b[0madd_red\u001b[0m\u001b[0;34m(\u001b[0m\u001b[0;36m1\u001b[0m\u001b[0;34m,\u001b[0m\u001b[0;36m2\u001b[0m\u001b[0;34m)\u001b[0m\u001b[0;34m\u001b[0m\u001b[0;34m\u001b[0m\u001b[0m\n\u001b[1;32m      3\u001b[0m \u001b[0mboard\u001b[0m\u001b[0;34m.\u001b[0m\u001b[0madd_blue\u001b[0m\u001b[0;34m(\u001b[0m\u001b[0;36m3\u001b[0m\u001b[0;34m,\u001b[0m\u001b[0;36m3\u001b[0m\u001b[0;34m)\u001b[0m\u001b[0;34m\u001b[0m\u001b[0;34m\u001b[0m\u001b[0m\n\u001b[1;32m      4\u001b[0m \u001b[0mboard\u001b[0m\u001b[0;34m.\u001b[0m\u001b[0mrender\u001b[0m\u001b[0;34m(\u001b[0m\u001b[0;34m)\u001b[0m\u001b[0;34m\u001b[0m\u001b[0;34m\u001b[0m\u001b[0m\n",
      "\u001b[0;31mNameError\u001b[0m: name 'ChessBoard' is not defined"
     ]
    }
   ],
   "source": [
    "board = ChessBoard()\n",
    "board.add_red(1,2)\n",
    "board.add_blue(3,3)\n",
    "board.render()"
   ]
  },
  {
   "cell_type": "code",
   "execution_count": null,
   "metadata": {},
   "outputs": [],
   "source": []
  }
 ],
 "metadata": {
  "kernelspec": {
   "display_name": "Python 3",
   "language": "python",
   "name": "python3"
  },
  "language_info": {
   "codemirror_mode": {
    "name": "ipython",
    "version": 3
   },
   "file_extension": ".py",
   "mimetype": "text/x-python",
   "name": "python",
   "nbconvert_exporter": "python",
   "pygments_lexer": "ipython3",
   "version": "3.8.5"
  }
 },
 "nbformat": 4,
 "nbformat_minor": 5
}