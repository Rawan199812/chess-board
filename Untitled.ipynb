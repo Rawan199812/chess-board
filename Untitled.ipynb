{
 "cells": [
  {
   "cell_type": "code",
   "execution_count": 1,
   "id": "2e934ffc-8cd4-45f3-9b22-dc1a0e9d0713",
   "metadata": {},
   "outputs": [],
   "source": [
    "import numpy as np\n",
    "import matplotlib.pyplot as plt\n"
   ]
  },
  {
   "cell_type": "code",
   "execution_count": 2,
   "id": "6ed824df-dcfa-4580-af5d-3b545c665e7d",
   "metadata": {},
   "outputs": [
    {
     "name": "stdout",
     "output_type": "stream",
     "text": [
      "passed\n"
     ]
    },
    {
     "data": {
      "image/png": "[encoded data removed]",
      "text/plain": [
       "<Figure size 432x288 with 1 Axes>"
      ]
     },
     "metadata": {
      "needs_background": "light"
     },
     "output_type": "display_data"
    }
   ],
   "source": [
    "class ChessBoard :\n",
    "    white = [1,1,1]\n",
    "    blue = [0,1,1]\n",
    "    red = [1,.2,0]\n",
    "    r_row=0\n",
    "    r_col=0\n",
    "    b_row=0\n",
    "    b_col=0\n",
    "    def __init__(self):\n",
    "        self.grid = np.zeros((8,8,3)) ## 3 zeros is the black \n",
    "        for i in range(8):\n",
    "            for j in range(8):\n",
    "                if not(i+j)%2:\n",
    "                    self.grid[i,j]=ChessBoard.white\n",
    "\n",
    "    def add_red(self, r_row, r_col):\n",
    "        \"\"\"method accepts a row and column as input which colors blue corresponding cell (red queen)\"\"\"\n",
    "        self.grid[r_row,r_col]=ChessBoard.red\n",
    "        self.r_row=r_row\n",
    "        self.r_col=r_col\n",
    "\n",
    "    def add_blue(self, b_row, b_col):\n",
    "        \"\"\"method accepts a row and column as input which colors red corresponding cell(blue queen)\"\"\"\n",
    "        self.grid[b_row,b_col]=ChessBoard.blue\n",
    "        self.b_row=b_row\n",
    "        self.b_col=b_col\n",
    "    \n",
    "    def render(self):\n",
    "        \"\"\"method displays the chess board on screen with red and blue shown in correct locations\"\"\"\n",
    "        \n",
    "        plt.imshow(self.grid)\n",
    "\n",
    "    def is_under_attack(self):\n",
    "        \"\"\" method that return boolean if red is under attack by a blue piece horizontally, vertically or diagonally\"\"\"\n",
    "        r_row = self.r_row\n",
    "        r_col = self.r_col\n",
    "        b_row = self.b_row\n",
    "        b_col = self.b_col\n",
    "        if not(r_row - b_row) or not(r_col-b_col) or not((r_row+r_col)-(b_row+b_col)):\n",
    "            return True\n",
    "        else:\n",
    "            return False\n",
    "# first case False\n",
    "board = ChessBoard()\n",
    "board.add_red(1,2)\n",
    "board.add_blue(3,3)\n",
    "board.render()\n",
    "board.is_under_attack()\n",
    "assert board.is_under_attack()==False\n",
    "print('passed')\n"
   ]
  },
  {
   "cell_type": "code",
   "execution_count": 3,
   "id": "43a742a9",
   "metadata": {},
   "outputs": [
    {
     "data": {
      "text/plain": [
       "True"
      ]
     },
     "execution_count": 3,
     "metadata": {},
     "output_type": "execute_result"
    },
    {
     "data": {
      "image/png": "[encoded data removed]",
      "text/plain": [
       "<Figure size 432x288 with 1 Axes>"
      ]
     },
     "metadata": {
      "needs_background": "light"
     },
     "output_type": "display_data"
    }
   ],
   "source": [
    "# second case (red is under attack by a blue piece horizontally)the two r_row - b_row\n",
    "board2 = ChessBoard()\n",
    "board2.add_red(1,2)\n",
    "board2.add_blue(1,3)\n",
    "board2.render()\n",
    "board2.is_under_attack()"
   ]
  },
  {
   "cell_type": "code",
   "execution_count": 4,
   "id": "c01f6c1c",
   "metadata": {},
   "outputs": [
    {
     "data": {
      "text/plain": [
       "True"
      ]
     },
     "execution_count": 4,
     "metadata": {},
     "output_type": "execute_result"
    },
    {
     "data": {
      "image/png": "[encoded data removed]",
      "text/plain": [
       "<Figure size 432x288 with 1 Axes>"
      ]
     },
     "metadata": {
      "needs_background": "light"
     },
     "output_type": "display_data"
    }
   ],
   "source": [
    "# Third case (red is under attack by a blue piece vertically)the r_col-b_col\n",
    "board3 = ChessBoard()\n",
    "board3.add_red(1,6)\n",
    "board3.add_blue(5,6)\n",
    "board3.render()\n",
    "board3.is_under_attack()"
   ]
  },
  {
   "cell_type": "code",
   "execution_count": 5,
   "id": "1738e618",
   "metadata": {},
   "outputs": [
    {
     "data": {
      "text/plain": [
       "True"
      ]
     },
     "execution_count": 5,
     "metadata": {},
     "output_type": "execute_result"
    },
    {
     "data": {
      "image/png": "[encoded data removed]",
      "text/plain": [
       "<Figure size 432x288 with 1 Axes>"
      ]
     },
     "metadata": {
      "needs_background": "light"
     },
     "output_type": "display_data"
    }
   ],
   "source": [
    "# fourth case (red is under attack by a blue piece diagonally)the (r_row+r_col)-(b_row+b_col)\n",
    "board4 = ChessBoard()\n",
    "board4.add_red(1,6)\n",
    "board4.add_blue(2,5)\n",
    "board4.render()\n",
    "board4.is_under_attack()"
   ]
  },
  {
   "cell_type": "code",
   "execution_count": 6,
   "id": "96df3912",
   "metadata": {},
   "outputs": [
    {
     "name": "stdout",
     "output_type": "stream",
     "text": [
      "All tests passed\n"
     ]
    }
   ],
   "source": [
    "assert board.is_under_attack()==False\n",
    "assert board2.is_under_attack()==True\n",
    "assert board3.is_under_attack()==True\n",
    "assert board4.is_under_attack()==True\n",
    "print(\"All tests passed\")"
   ]
  },
  {
   "cell_type": "code",
   "execution_count": null,
   "id": "7b87fce1",
   "metadata": {},
   "outputs": [],
   "source": []
  }
 ],
 "metadata": {
  "kernelspec": {
   "display_name": "Python 3",
   "language": "python",
   "name": "python3"
  },
  "language_info": {
   "codemirror_mode": {
    "name": "ipython",
    "version": 3
   },
   "file_extension": ".py",
   "mimetype": "text/x-python",
   "name": "python",
   "nbconvert_exporter": "python",
   "pygments_lexer": "ipython3",
   "version": "3.8.5"
  },
  "metadata": {
   "interpreter": {
    "hash": "dd6714ffb96b553a9d73884eb2859b5a6bd5c02b7bc97b1f7bc969cf57591d40"
   }
  }
 },
 "nbformat": 4,
 "nbformat_minor": 5
}
